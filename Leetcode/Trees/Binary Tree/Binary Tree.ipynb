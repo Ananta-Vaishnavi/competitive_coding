{
 "cells": [
  {
   "cell_type": "code",
   "execution_count": 1,
   "id": "d02fe538",
   "metadata": {},
   "outputs": [],
   "source": [
    "class Node:\n",
    "    def __init__(self,data):\n",
    "        self.data=data\n",
    "        self.left=None\n",
    "        self.right=None"
   ]
  },
  {
   "cell_type": "code",
   "execution_count": 2,
   "id": "31d9ec8c",
   "metadata": {},
   "outputs": [],
   "source": [
    "def PrintTree(root):\n",
    "    if root is None:\n",
    "        return \n",
    "    print(root.data,end=\" : \")\n",
    "    if root.left:\n",
    "        print(\"L\",root.left.data, end=\",\")\n",
    "    if root.right:\n",
    "        print(\"R\",root.right.data, end=\"\")\n",
    "    print()\n",
    "    PrintTree(root.left)\n",
    "    PrintTree(root.right)\n",
    "    "
   ]
  },
  {
   "cell_type": "code",
   "execution_count": 3,
   "id": "d7525827",
   "metadata": {},
   "outputs": [],
   "source": [
    "def treeInput():\n",
    "    rootData=int(input()) \n",
    "    if rootData == -1:\n",
    "        return None\n",
    "    \n",
    "    root = Node(rootData)\n",
    "    leftTree = treeInput()\n",
    "    rightTree = treeInput()\n",
    "    root.left = leftTree\n",
    "    root.right = rightTree\n",
    "    return root"
   ]
  },
  {
   "cell_type": "code",
   "execution_count": 4,
   "id": "2e80118b",
   "metadata": {},
   "outputs": [
    {
     "name": "stdout",
     "output_type": "stream",
     "text": [
      "7\n",
      "3\n",
      "5\n",
      "-1\n",
      "-1\n",
      "-1\n",
      "4\n",
      "-1\n",
      "-1\n"
     ]
    }
   ],
   "source": [
    "root = treeInput()"
   ]
  },
  {
   "cell_type": "code",
   "execution_count": 5,
   "id": "12b95bdc",
   "metadata": {},
   "outputs": [
    {
     "name": "stdout",
     "output_type": "stream",
     "text": [
      "7 : L 3,R 4\n",
      "3 : L 5,\n",
      "5 : \n",
      "4 : \n"
     ]
    }
   ],
   "source": [
    "PrintTree(root)"
   ]
  },
  {
   "cell_type": "code",
   "execution_count": 6,
   "id": "305ef580",
   "metadata": {},
   "outputs": [],
   "source": [
    "def maximum(root):\n",
    "    if root == None:\n",
    "        return -1\n",
    "    left_max=maximum(root.left)\n",
    "    right_max=maximum(root.right)\n",
    "    max_val=max(left_max,right_max,root.data)\n",
    "    return max_val"
   ]
  },
  {
   "cell_type": "code",
   "execution_count": 7,
   "id": "0e8e2cdc",
   "metadata": {},
   "outputs": [
    {
     "data": {
      "text/plain": [
       "7"
      ]
     },
     "execution_count": 7,
     "metadata": {},
     "output_type": "execute_result"
    }
   ],
   "source": [
    "maximum(root)"
   ]
  },
  {
   "cell_type": "code",
   "execution_count": null,
   "id": "64f013ec",
   "metadata": {},
   "outputs": [],
   "source": []
  }
 ],
 "metadata": {
  "kernelspec": {
   "display_name": "Python 3 (ipykernel)",
   "language": "python",
   "name": "python3"
  },
  "language_info": {
   "codemirror_mode": {
    "name": "ipython",
    "version": 3
   },
   "file_extension": ".py",
   "mimetype": "text/x-python",
   "name": "python",
   "nbconvert_exporter": "python",
   "pygments_lexer": "ipython3",
   "version": "3.9.12"
  }
 },
 "nbformat": 4,
 "nbformat_minor": 5
}
